{
 "cells": [
  {
   "cell_type": "markdown",
   "id": "17345681-976b-42d3-931c-e37864b365a8",
   "metadata": {},
   "source": [
    "# k-scheduling tests"
   ]
  },
  {
   "cell_type": "code",
   "execution_count": 1,
   "id": "64e2f1f8-0d08-44b3-bac6-323e52fa00d9",
   "metadata": {},
   "outputs": [],
   "source": [
    "import matplotlib.pyplot as plt\n",
    "import numpy as np\n",
    "\n",
    "from random import sample, seed\n",
    "from tqdm import tqdm\n",
    "\n",
    "from qiskit import QuantumCircuit, QuantumRegister, ClassicalRegister, Aer, transpile, assemble\n",
    "from qiskit.algorithms import amplitude_estimators, EstimationProblem\n",
    "from qiskit.algorithms import IterativeAmplitudeEstimation as BaseIterativeAmplitudeEstimation\n",
    "\n",
    "from algorithms import IterativeAmplitudeEstimation, MaximumLikelihoodAmplitudeEstimation, FasterAmplitudeEstimation\n",
    "from operators import *"
   ]
  },
  {
   "cell_type": "code",
   "execution_count": 2,
   "id": "4ca77649-3fbf-4bd9-a9b1-8cf97a3d322a",
   "metadata": {},
   "outputs": [],
   "source": [
    "n = 4\n",
    "N = 2**n\n",
    "k = N//2\n",
    "marked = sample(range(N), k)"
   ]
  },
  {
   "cell_type": "code",
   "execution_count": 3,
   "id": "bf6c0acf-04f2-4363-9530-bdff23aa8fff",
   "metadata": {},
   "outputs": [],
   "source": [
    "# Define the estimation problem and oracle function\n",
    "def good_state(state):\n",
    "    bin_marked = [(n-len(bin(s))+2)*'0'+bin(s)[2:] for s in marked]\n",
    "    return (state in bin_marked)\n",
    "\n",
    "problem = EstimationProblem(\n",
    "    state_preparation=A(n),  # A operator\n",
    "    grover_operator=Q(n, marked),  # Q operator\n",
    "    objective_qubits=range(n),\n",
    "    is_good_state=good_state  # the \"good\" state Psi1 is identified as measuring |1> in qubit 0\n",
    ")"
   ]
  },
  {
   "cell_type": "code",
   "execution_count": 4,
   "id": "52aea16b-81e7-48a3-ad96-e92bca50ce8e",
   "metadata": {},
   "outputs": [],
   "source": [
    "# use local simulator\n",
    "aer_sim = Aer.get_backend('aer_simulator')\n",
    "shots = 100"
   ]
  },
  {
   "cell_type": "markdown",
   "id": "576dee1a-c770-480a-9a9a-b54293c129c8",
   "metadata": {},
   "source": [
    "## IQAE: attempt exponential decay in the number of shots per iteration to account for deeper circuits."
   ]
  },
  {
   "cell_type": "code",
   "execution_count": 5,
   "id": "911e3e59-39a2-435e-94b8-70623132dbae",
   "metadata": {},
   "outputs": [],
   "source": [
    "# TODO: package this in a function to make it nicer / generalize\n",
    "\n",
    "# n_trials = 100\n",
    "# max_depth_log2 = 5\n",
    "# queries = np.zeros((max_depth_log2-1, n_trials))\n",
    "# errs = np.zeros((max_depth_log2-1, n_trials))\n",
    "\n",
    "# for i in range(2,max_depth_log2+1):\n",
    "#     for j in range(n_trials):\n",
    "#         mlae = MLAE(range(i), quantum_instance=aer_sim)\n",
    "#         result = mlae.estimate(problem)\n",
    "#         queries[i-2,j] = result.num_oracle_queries\n",
    "#         errs[i-2,j] = abs(k/N - result.estimation)"
   ]
  },
  {
   "cell_type": "code",
   "execution_count": 6,
   "id": "93ffca83-b57c-4c77-ac53-8818452b2033",
   "metadata": {},
   "outputs": [],
   "source": [
    "# parameters for IQAE\n",
    "alpha = 0.05\n",
    "confint_method = 'chernoff'"
   ]
  },
  {
   "cell_type": "code",
   "execution_count": 7,
   "id": "0f3e127f-42a1-4c97-83c2-08031c0da93c",
   "metadata": {
    "tags": []
   },
   "outputs": [
    {
     "name": "stderr",
     "output_type": "stream",
     "text": [
      "100%|██████████| 10/10 [00:04<00:00,  2.07it/s]\n"
     ]
    }
   ],
   "source": [
    "powers = range(2,7)\n",
    "epsilons = [(1.0 / (10**power)) for power in powers]\n",
    "num_experiments = 1000\n",
    "\n",
    "iae_results = [[0 for _ in range(len(epsilons))] for _ in range(num_experiments)]\n",
    "\n",
    "for i in tqdm(range(num_experiments)):\n",
    "    for j, epsilon in enumerate(epsilons):\n",
    "        IAE = IterativeAmplitudeEstimation(epsilon_target=epsilon, \n",
    "                                           alpha=alpha, \n",
    "                                           confint_method=confint_method, \n",
    "                                           quantum_instance=aer_sim,\n",
    "                                           verbose=False)\n",
    "        iae_results[i][j] = IAE.estimate(problem)"
   ]
  },
  {
   "cell_type": "code",
   "execution_count": 8,
   "id": "64d440a1-0033-4f6a-8888-dc7ea14e01e1",
   "metadata": {},
   "outputs": [],
   "source": [
    "IAE_RESULT = iae_results"
   ]
  },
  {
   "cell_type": "code",
   "execution_count": 9,
   "id": "42894d53-a422-4e67-bfa1-47984d3c1649",
   "metadata": {},
   "outputs": [],
   "source": [
    "iae_epsilon = np.array([[(res.confidence_interval_processed[1] - res.confidence_interval_processed[0]) / 2 for res in result_row] for result_row in IAE_RESULT])\n",
    "iae_delta_c = np.array([[int(res.confidence_interval_processed[0] < k/N < res.confidence_interval_processed[1]) for res in result_row] for result_row in IAE_RESULT])\n",
    "iae_nshots  = np.array([[res.num_oracle_queries for res in result_row] for result_row in IAE_RESULT])"
   ]
  },
  {
   "cell_type": "code",
   "execution_count": 10,
   "id": "c7b2aa57-5eb4-4cde-9c0c-a2ed0b7ab6a0",
   "metadata": {},
   "outputs": [],
   "source": [
    "iae_epsilon = iae_epsilon.mean(axis=0)\n",
    "iae_delta = 1 - iae_delta_c.mean(axis=0)\n",
    "iae_nshots = iae_nshots.mean(axis=0)"
   ]
  },
  {
   "cell_type": "code",
   "execution_count": 11,
   "id": "b8c407c1-8beb-445c-9576-6bb8b332fb49",
   "metadata": {},
   "outputs": [
    {
     "data": {
      "text/plain": [
       "array([6.26091751e-03, 5.25106909e-04, 4.33411756e-05, 5.95061514e-06,\n",
       "       4.30221419e-07])"
      ]
     },
     "execution_count": 11,
     "metadata": {},
     "output_type": "execute_result"
    }
   ],
   "source": [
    "iae_epsilon"
   ]
  },
  {
   "cell_type": "code",
   "execution_count": 22,
   "id": "b0a3fc9c-c03b-484d-b2cc-26ee2595c3c1",
   "metadata": {},
   "outputs": [
    {
     "data": {
      "image/png": "[encoded data removed]",
      "text/plain": [
       "<Figure size 432x288 with 1 Axes>"
      ]
     },
     "metadata": {
      "needs_background": "light"
     },
     "output_type": "display_data"
    }
   ],
   "source": [
    "plt.scatter(iae_epsilon, iae_delta)\n",
    "plt.plot(iae_epsilon, iae_delta)\n",
    "\n",
    "plt.xscale('log')\n",
    "plt.ylim(-0.1,1.1)\n",
    "plt.show()"
   ]
  },
  {
   "cell_type": "code",
   "execution_count": 13,
   "id": "c0d5d019-9bab-43f2-99f2-036218c6bc03",
   "metadata": {},
   "outputs": [
    {
     "data": {
      "image/png": "[encoded data removed]",
      "text/plain": [
       "<Figure size 432x288 with 1 Axes>"
      ]
     },
     "metadata": {
      "needs_background": "light"
     },
     "output_type": "display_data"
    }
   ],
   "source": [
    "fig = plt.figure()\n",
    "ax = plt.gca()\n",
    "ax.scatter(iae_nshots, iae_epsilon)\n",
    "ax.plot(iae_nshots, iae_epsilon)\n",
    "\n",
    "ax.legend(['Base IAE'])\n",
    "ax.set_yscale('log')\n",
    "ax.set_xscale('log')\n",
    "plt.xlim(1, 10**10)\n",
    "plt.show()"
   ]
  }
 ],
 "metadata": {
  "kernelspec": {
   "display_name": "Python 3",
   "language": "python",
   "name": "python3"
  },
  "language_info": {
   "codemirror_mode": {
    "name": "ipython",
    "version": 3
   },
   "file_extension": ".py",
   "mimetype": "text/x-python",
   "name": "python",
   "nbconvert_exporter": "python",
   "pygments_lexer": "ipython3",
   "version": "3.8.5"
  }
 },
 "nbformat": 4,
 "nbformat_minor": 5
}
