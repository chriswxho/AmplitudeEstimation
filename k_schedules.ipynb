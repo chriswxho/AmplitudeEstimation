{
 "cells": [
  {
   "cell_type": "markdown",
   "id": "17345681-976b-42d3-931c-e37864b365a8",
   "metadata": {},
   "source": [
    "# k-scheduling tests"
   ]
  },
  {
   "cell_type": "code",
   "execution_count": 1,
   "id": "64e2f1f8-0d08-44b3-bac6-323e52fa00d9",
   "metadata": {},
   "outputs": [],
   "source": [
    "import matplotlib.pyplot as plt\n",
    "import numpy as np\n",
    "\n",
    "from random import sample, seed\n",
    "\n",
    "from qiskit import QuantumCircuit, QuantumRegister, ClassicalRegister, Aer, transpile, assemble\n",
    "from qiskit.algorithms import amplitude_estimators, EstimationProblem\n",
    "from qiskit.algorithms import IterativeAmplitudeEstimation as BaseIterativeAmplitudeEstimation\n",
    "# from qiskit.extensions import UnitaryGate\n",
    "\n",
    "from algorithms import IterativeAmplitudeEstimation, MaximumLikelihoodAmplitudeEstimation, FasterAmplitudeEstimation\n",
    "from operators import *"
   ]
  },
  {
   "cell_type": "code",
   "execution_count": 2,
   "id": "4ca77649-3fbf-4bd9-a9b1-8cf97a3d322a",
   "metadata": {},
   "outputs": [],
   "source": [
    "n = 4\n",
    "N = 2**n\n",
    "k = N//2\n",
    "marked = sample(range(N), k)"
   ]
  },
  {
   "cell_type": "code",
   "execution_count": 3,
   "id": "bf6c0acf-04f2-4363-9530-bdff23aa8fff",
   "metadata": {},
   "outputs": [],
   "source": [
    "# Define the estimation problem and oracle function\n",
    "def good_state(state):\n",
    "    bin_marked = [(n-len(bin(s))+2)*'0'+bin(s)[2:] for s in marked]\n",
    "    return (state in bin_marked)\n",
    "\n",
    "problem = EstimationProblem(\n",
    "    state_preparation=A(n),  # A operator\n",
    "    grover_operator=Q(n, marked),  # Q operator\n",
    "    objective_qubits=range(n),\n",
    "    is_good_state=good_state  # the \"good\" state Psi1 is identified as measuring |1> in qubit 0\n",
    ")\n",
    "\n",
    "problem2 = EstimationProblem(\n",
    "    state_preparation=A(n),  # A operator\n",
    "    grover_operator=Q(n, marked),  # Q operator\n",
    "    objective_qubits=range(n),\n",
    "    is_good_state=good_state  # the \"good\" state Psi1 is identified as measuring |1> in qubit 0\n",
    ")"
   ]
  },
  {
   "cell_type": "code",
   "execution_count": 4,
   "id": "52aea16b-81e7-48a3-ad96-e92bca50ce8e",
   "metadata": {},
   "outputs": [],
   "source": [
    "# use local simulator\n",
    "aer_sim = Aer.get_backend('aer_simulator')\n",
    "shots = 100"
   ]
  },
  {
   "cell_type": "markdown",
   "id": "576dee1a-c770-480a-9a9a-b54293c129c8",
   "metadata": {},
   "source": [
    "## IQAE: attempt exponential decay in the number of shots per iteration to account for deeper circuits."
   ]
  },
  {
   "cell_type": "code",
   "execution_count": 5,
   "id": "911e3e59-39a2-435e-94b8-70623132dbae",
   "metadata": {},
   "outputs": [],
   "source": [
    "# TODO: package this in a function to make it nicer / generalize\n",
    "\n",
    "# n_trials = 100\n",
    "# max_depth_log2 = 5\n",
    "# queries = np.zeros((max_depth_log2-1, n_trials))\n",
    "# errs = np.zeros((max_depth_log2-1, n_trials))\n",
    "\n",
    "# for i in range(2,max_depth_log2+1):\n",
    "#     for j in range(n_trials):\n",
    "#         mlae = MLAE(range(i), quantum_instance=aer_sim)\n",
    "#         result = mlae.estimate(problem)\n",
    "#         queries[i-2,j] = result.num_oracle_queries\n",
    "#         errs[i-2,j] = abs(k/N - result.estimation)"
   ]
  },
  {
   "cell_type": "code",
   "execution_count": 6,
   "id": "93ffca83-b57c-4c77-ac53-8818452b2033",
   "metadata": {},
   "outputs": [],
   "source": [
    "# parameters for IQAE\n",
    "alpha = 0.05\n",
    "confint_method = 'chernoff'"
   ]
  },
  {
   "cell_type": "code",
   "execution_count": 7,
   "id": "0f3e127f-42a1-4c97-83c2-08031c0da93c",
   "metadata": {
    "tags": []
   },
   "outputs": [
    {
     "name": "stdout",
     "output_type": "stream",
     "text": [
      "epsilon: 0.01\n",
      "0.049775\n",
      "1 1024 0\n",
      "2 1024 2\n",
      "3 1024 13\n",
      "\n",
      "epsilon: 0.001\n",
      "0.049775\n",
      "1 1024 0\n",
      "2 1024 1\n",
      "3 1024 8\n",
      "4 1024 45\n",
      "5 1024 262\n",
      "\n",
      "epsilon: 0.0001\n",
      "0.049775\n",
      "1 1024 0\n",
      "2 1024 2\n",
      "3 1024 13\n",
      "4 1024 65\n",
      "5 1024 276\n",
      "6 1024 1505\n",
      "\n",
      "epsilon: 1e-05\n",
      "0.049775\n",
      "1 1024 0\n",
      "2 1024 2\n",
      "3 1024 12\n",
      "4 1024 68\n",
      "5 1024 378\n",
      "6 1024 1805\n",
      "7 1024 9701\n",
      "\n",
      "epsilon: 1e-06\n",
      "0.049775\n",
      "1 1024 0\n",
      "2 1024 2\n",
      "3 1024 13\n",
      "4 1024 64\n",
      "5 1024 319\n",
      "6 1024 1768\n",
      "7 1024 8895\n",
      "8 1024 44744\n",
      "9 1024 234289\n",
      "\n"
     ]
    }
   ],
   "source": [
    "powers = range(2,7)\n",
    "epsilons = [(1.0 / (10**power)) for power in powers]\n",
    "iae_results = [] \n",
    "biae_results = []\n",
    "for i, epsilon in enumerate(epsilons):\n",
    "    print('epsilon:',epsilon)\n",
    "    IAE = IterativeAmplitudeEstimation(epsilon_target=epsilon, alpha=alpha, confint_method=confint_method, quantum_instance=aer_sim)\n",
    "    BIAE = BaseIterativeAmplitudeEstimation(epsilon_target=epsilon, alpha=alpha, confint_method=confint_method, quantum_instance=aer_sim)\n",
    "    iae_result = IAE.estimate(problem)\n",
    "    biae_result = BIAE.estimate(problem2)\n",
    "    iae_results.append(iae_result)\n",
    "    biae_results.append(biae_result)\n",
    "    print()"
   ]
  },
  {
   "cell_type": "code",
   "execution_count": null,
   "id": "0cb32255-1b47-4399-a5c0-6694f3998970",
   "metadata": {},
   "outputs": [],
   "source": []
  },
  {
   "cell_type": "code",
   "execution_count": 8,
   "id": "64d440a1-0033-4f6a-8888-dc7ea14e01e1",
   "metadata": {},
   "outputs": [],
   "source": [
    "IAE_RESULT = iae_results\n",
    "BIAE_RESULT = biae_results"
   ]
  },
  {
   "cell_type": "code",
   "execution_count": 9,
   "id": "42894d53-a422-4e67-bfa1-47984d3c1649",
   "metadata": {},
   "outputs": [],
   "source": [
    "iae_epsilon = [(res.confidence_interval_processed[1] - res.confidence_interval_processed[0]) / 2 for res in IAE_RESULT]\n",
    "iae_nshots  = [res.num_oracle_queries for res in IAE_RESULT]\n",
    "\n",
    "biae_epsilon = [(res.confidence_interval_processed[1] - res.confidence_interval_processed[0]) / 2 for res in BIAE_RESULT]\n",
    "biae_nshots  = [res.num_oracle_queries for res in BIAE_RESULT]"
   ]
  },
  {
   "cell_type": "code",
   "execution_count": 10,
   "id": "c0d5d019-9bab-43f2-99f2-036218c6bc03",
   "metadata": {},
   "outputs": [
    {
     "data": {
      "image/png": "[encoded data removed]",
      "text/plain": [
       "<Figure size 432x288 with 1 Axes>"
      ]
     },
     "metadata": {
      "needs_background": "light"
     },
     "output_type": "display_data"
    }
   ],
   "source": [
    "fig = plt.figure()\n",
    "ax = plt.gca()\n",
    "ax.scatter(iae_nshots, iae_epsilon)\n",
    "ax.plot(iae_nshots, iae_epsilon)\n",
    "ax.scatter(biae_nshots, biae_epsilon)\n",
    "ax.plot(biae_nshots, biae_epsilon)\n",
    "ax.legend(['IAE', 'Base IAE'])\n",
    "ax.set_yscale('log')\n",
    "ax.set_xscale('log')\n",
    "plt.xlim(1, 10**10)\n",
    "plt.show()"
   ]
  },
  {
   "cell_type": "code",
   "execution_count": 11,
   "id": "8c7a6eee-a588-447d-adf7-3fb5f9bf5143",
   "metadata": {},
   "outputs": [
    {
     "data": {
      "text/plain": [
       "[8192, 92160, 2351104, 10925056, 385784832]"
      ]
     },
     "execution_count": 11,
     "metadata": {},
     "output_type": "execute_result"
    }
   ],
   "source": [
    "biae_nshots"
   ]
  },
  {
   "cell_type": "code",
   "execution_count": 12,
   "id": "657f402b-34cb-459e-a155-786864efb9d9",
   "metadata": {},
   "outputs": [
    {
     "data": {
      "text/plain": [
       "[15360, 323584, 1905664, 12253184, 297056256]"
      ]
     },
     "execution_count": 12,
     "metadata": {},
     "output_type": "execute_result"
    }
   ],
   "source": [
    "iae_nshots"
   ]
  },
  {
   "cell_type": "code",
   "execution_count": 13,
   "id": "53cefc60-69bd-4c7f-bdb2-a8150da21c92",
   "metadata": {},
   "outputs": [
    {
     "data": {
      "text/plain": [
       "array([   -7168,  -231424,   445440, -1328128, 88728576])"
      ]
     },
     "execution_count": 13,
     "metadata": {},
     "output_type": "execute_result"
    }
   ],
   "source": [
    "np.array(biae_nshots) - np.array(iae_nshots)"
   ]
  }
 ],
 "metadata": {
  "kernelspec": {
   "display_name": "Python 3",
   "language": "python",
   "name": "python3"
  },
  "language_info": {
   "codemirror_mode": {
    "name": "ipython",
    "version": 3
   },
   "file_extension": ".py",
   "mimetype": "text/x-python",
   "name": "python",
   "nbconvert_exporter": "python",
   "pygments_lexer": "ipython3",
   "version": "3.8.5"
  }
 },
 "nbformat": 4,
 "nbformat_minor": 5
}
