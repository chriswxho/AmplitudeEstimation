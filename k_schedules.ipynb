{
 "cells": [
  {
   "cell_type": "markdown",
   "id": "17345681-976b-42d3-931c-e37864b365a8",
   "metadata": {},
   "source": [
    "# k-scheduling tests"
   ]
  },
  {
   "cell_type": "code",
   "execution_count": 1,
   "id": "64e2f1f8-0d08-44b3-bac6-323e52fa00d9",
   "metadata": {},
   "outputs": [],
   "source": [
    "import matplotlib.pyplot as plt\n",
    "import numpy as np\n",
    "\n",
    "from random import sample, seed\n",
    "\n",
    "from qiskit import QuantumCircuit, QuantumRegister, ClassicalRegister, Aer, transpile, assemble\n",
    "from qiskit.algorithms import amplitude_estimators, EstimationProblem\n",
    "from qiskit.algorithms import IterativeAmplitudeEstimation as BaseIterativeAmplitudeEstimation\n",
    "\n",
    "from algorithms import IterativeAmplitudeEstimation, MaximumLikelihoodAmplitudeEstimation, FasterAmplitudeEstimation\n",
    "from operators import *"
   ]
  },
  {
   "cell_type": "code",
   "execution_count": 2,
   "id": "4ca77649-3fbf-4bd9-a9b1-8cf97a3d322a",
   "metadata": {},
   "outputs": [],
   "source": [
    "n = 4\n",
    "N = 2**n\n",
    "k = N//2\n",
    "marked = sample(range(N), k)"
   ]
  },
  {
   "cell_type": "code",
   "execution_count": 3,
   "id": "bf6c0acf-04f2-4363-9530-bdff23aa8fff",
   "metadata": {},
   "outputs": [],
   "source": [
    "# Define the estimation problem and oracle function\n",
    "def good_state(state):\n",
    "    bin_marked = [(n-len(bin(s))+2)*'0'+bin(s)[2:] for s in marked]\n",
    "    return (state in bin_marked)\n",
    "\n",
    "problem = EstimationProblem(\n",
    "    state_preparation=A(n),  # A operator\n",
    "    grover_operator=Q(n, marked),  # Q operator\n",
    "    objective_qubits=range(n),\n",
    "    is_good_state=good_state  # the \"good\" state Psi1 is identified as measuring |1> in qubit 0\n",
    ")"
   ]
  },
  {
   "cell_type": "code",
   "execution_count": 4,
   "id": "52aea16b-81e7-48a3-ad96-e92bca50ce8e",
   "metadata": {},
   "outputs": [],
   "source": [
    "# use local simulator\n",
    "aer_sim = Aer.get_backend('aer_simulator')\n",
    "shots = 100"
   ]
  },
  {
   "cell_type": "markdown",
   "id": "576dee1a-c770-480a-9a9a-b54293c129c8",
   "metadata": {},
   "source": [
    "## IQAE: attempt exponential decay in the number of shots per iteration to account for deeper circuits."
   ]
  },
  {
   "cell_type": "code",
   "execution_count": 5,
   "id": "911e3e59-39a2-435e-94b8-70623132dbae",
   "metadata": {},
   "outputs": [],
   "source": [
    "# TODO: package this in a function to make it nicer / generalize\n",
    "\n",
    "# n_trials = 100\n",
    "# max_depth_log2 = 5\n",
    "# queries = np.zeros((max_depth_log2-1, n_trials))\n",
    "# errs = np.zeros((max_depth_log2-1, n_trials))\n",
    "\n",
    "# for i in range(2,max_depth_log2+1):\n",
    "#     for j in range(n_trials):\n",
    "#         mlae = MLAE(range(i), quantum_instance=aer_sim)\n",
    "#         result = mlae.estimate(problem)\n",
    "#         queries[i-2,j] = result.num_oracle_queries\n",
    "#         errs[i-2,j] = abs(k/N - result.estimation)"
   ]
  },
  {
   "cell_type": "code",
   "execution_count": 6,
   "id": "93ffca83-b57c-4c77-ac53-8818452b2033",
   "metadata": {},
   "outputs": [],
   "source": [
    "# parameters for IQAE\n",
    "alpha = 0.05\n",
    "confint_method = 'chernoff'"
   ]
  },
  {
   "cell_type": "code",
   "execution_count": 7,
   "id": "0f3e127f-42a1-4c97-83c2-08031c0da93c",
   "metadata": {
    "tags": []
   },
   "outputs": [
    {
     "name": "stdout",
     "output_type": "stream",
     "text": [
      "ε: 0.01\n",
      "T: 7\n",
      "\n",
      "Iteration 1\n",
      "  k_i: 0\n",
      "Iteration 2\n",
      "  k_i: 2\n",
      "Iteration 3\n",
      "  k_i: 13\n",
      "\n",
      "ε: 0.001\n",
      "T: 10\n",
      "\n",
      "Iteration 1\n",
      "  k_i: 0\n",
      "Iteration 2\n",
      "  k_i: 1\n",
      "Iteration 3\n",
      "  k_i: 6\n",
      "Iteration 4\n",
      "  k_i: 34\n",
      "Iteration 5\n",
      "  k_i: 168\n",
      "\n",
      "ε: 0.0001\n",
      "T: 13\n",
      "\n",
      "Iteration 1\n",
      "  k_i: 0\n",
      "Iteration 2\n",
      "  k_i: 2\n",
      "Iteration 3\n",
      "  k_i: 12\n",
      "Iteration 4\n",
      "  k_i: 66\n",
      "Iteration 5\n",
      "  k_i: 351\n",
      "Iteration 6\n",
      "  k_i: 1823\n",
      "\n",
      "ε: 1e-05\n",
      "T: 17\n",
      "\n",
      "Iteration 1\n",
      "  k_i: 0\n",
      "Iteration 2\n",
      "  k_i: 2\n",
      "Iteration 3\n",
      "  k_i: 11\n",
      "Iteration 4\n",
      "  k_i: 59\n",
      "Iteration 5\n",
      "  k_i: 321\n",
      "Iteration 6\n",
      "  k_i: 1691\n",
      "Iteration 7\n",
      "  k_i: 8019\n",
      "\n",
      "ε: 1e-06\n",
      "T: 20\n",
      "\n",
      "Iteration 1\n",
      "  k_i: 0\n",
      "Iteration 2\n",
      "  k_i: 2\n",
      "Iteration 3\n",
      "  k_i: 13\n",
      "Iteration 4\n",
      "  k_i: 65\n",
      "Iteration 5\n",
      "  k_i: 331\n",
      "Iteration 6\n",
      "  k_i: 1759\n",
      "Iteration 7\n",
      "  k_i: 9150\n",
      "Iteration 8\n",
      "  k_i: 45136\n",
      "Iteration 9\n",
      "  k_i: 239606\n",
      "\n"
     ]
    }
   ],
   "source": [
    "powers = range(2,7)\n",
    "epsilons = [(1.0 / (10**power)) for power in powers]\n",
    "# num_experiments = 100\n",
    "\n",
    "iae_results = [] \n",
    "\n",
    "# for i in range(num_experiments):\n",
    "for j, epsilon in enumerate(epsilons):\n",
    "    print('ε:',epsilon)\n",
    "    IAE = IterativeAmplitudeEstimation(epsilon_target=epsilon, alpha=alpha, confint_method=confint_method, quantum_instance=aer_sim)\n",
    "    iae_result = IAE.estimate(problem)\n",
    "    iae_results.append(iae_result)\n",
    "    print()"
   ]
  },
  {
   "cell_type": "code",
   "execution_count": 8,
   "id": "0cb32255-1b47-4399-a5c0-6694f3998970",
   "metadata": {},
   "outputs": [
    {
     "data": {
      "image/png": "[encoded data removed]",
      "text/plain": [
       "<Figure size 432x288 with 1 Axes>"
      ]
     },
     "metadata": {
      "needs_background": "light"
     },
     "output_type": "display_data"
    }
   ],
   "source": [
    "x = iae_results[-1].powers\n",
    "plt.plot([10**i for i in np.arange(len(x))], x)\n",
    "plt.xscale('log')\n",
    "plt.title('Num. oracle queries vs. epsilon input')\n",
    "plt.show()"
   ]
  },
  {
   "cell_type": "code",
   "execution_count": 9,
   "id": "64d440a1-0033-4f6a-8888-dc7ea14e01e1",
   "metadata": {},
   "outputs": [],
   "source": [
    "IAE_RESULT = iae_results"
   ]
  },
  {
   "cell_type": "code",
   "execution_count": 10,
   "id": "42894d53-a422-4e67-bfa1-47984d3c1649",
   "metadata": {},
   "outputs": [],
   "source": [
    "iae_epsilon = [(res.confidence_interval_processed[1] - res.confidence_interval_processed[0]) / 2 for res in IAE_RESULT]\n",
    "iae_results = [res.estimation for res in IAE_RESULT]\n",
    "iae_nshots  = [res.num_oracle_queries for res in IAE_RESULT]"
   ]
  },
  {
   "cell_type": "code",
   "execution_count": 11,
   "id": "c0d5d019-9bab-43f2-99f2-036218c6bc03",
   "metadata": {},
   "outputs": [
    {
     "data": {
      "image/png": "[encoded data removed]",
      "text/plain": [
       "<Figure size 432x288 with 1 Axes>"
      ]
     },
     "metadata": {
      "needs_background": "light"
     },
     "output_type": "display_data"
    }
   ],
   "source": [
    "fig = plt.figure()\n",
    "ax = plt.gca()\n",
    "ax.scatter(iae_nshots, iae_epsilon)\n",
    "ax.plot(iae_nshots, iae_epsilon)\n",
    "\n",
    "ax.legend(['Base IAE'])\n",
    "ax.set_yscale('log')\n",
    "ax.set_xscale('log')\n",
    "plt.xlim(1, 10**10)\n",
    "plt.show()"
   ]
  }
 ],
 "metadata": {
  "kernelspec": {
   "display_name": "Python 3",
   "language": "python",
   "name": "python3"
  },
  "language_info": {
   "codemirror_mode": {
    "name": "ipython",
    "version": 3
   },
   "file_extension": ".py",
   "mimetype": "text/x-python",
   "name": "python",
   "nbconvert_exporter": "python",
   "pygments_lexer": "ipython3",
   "version": "3.8.5"
  }
 },
 "nbformat": 4,
 "nbformat_minor": 5
}
