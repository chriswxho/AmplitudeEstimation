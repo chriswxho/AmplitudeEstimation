{
 "cells": [
  {
   "cell_type": "markdown",
   "metadata": {},
   "source": [
    "# Maximum Likelihood Amplitude Estimation"
   ]
  },
  {
   "cell_type": "code",
   "execution_count": 1,
   "metadata": {
    "id": "NpBScWpWZcst"
   },
   "outputs": [],
   "source": [
    "import matplotlib.pyplot as plt\n",
    "import numpy as np\n",
    "\n",
    "from random import sample, seed\n",
    "\n",
    "from qiskit import QuantumCircuit, QuantumRegister, ClassicalRegister, Aer, transpile, assemble\n",
    "from algorithms import amplitude_estimators, EstimationProblem\n",
    "from algorithms import MaximumLikelihoodAmplitudeEstimation as MLAE\n",
    "from qiskit.quantum_info.operators import Operator\n",
    "\n",
    "from qiskit.visualization import plot_histogram"
   ]
  },
  {
   "cell_type": "code",
   "execution_count": 2,
   "metadata": {
    "id": "x1yELIdyZfln"
   },
   "outputs": [],
   "source": [
    "n = 4\n",
    "N = 2**n\n",
    "k = N//2\n",
    "marked = sample(range(N), k)"
   ]
  },
  {
   "cell_type": "markdown",
   "metadata": {},
   "source": [
    "## Define the estimation problem \n",
    "Qiskit's amplitude estimators have the same interface, so the same definition of the estimation problem can be reused.\n",
    "\n",
    "https://qiskit.org/documentation/stubs/qiskit.algorithms.EstimationProblem.html#qiskit.algorithms.EstimationProblem"
   ]
  },
  {
   "cell_type": "code",
   "execution_count": 3,
   "metadata": {
    "id": "O6EpRNwCZils"
   },
   "outputs": [],
   "source": [
    "# Define the operator A. For the counting problem, this is the H gate applied on each qubit. \n",
    "def A(nqubits):\n",
    "    qc = QuantumCircuit(nqubits)\n",
    "    for qubit in range(nqubits):\n",
    "        qc.h(qubit)\n",
    "\n",
    "    operator = qc.to_gate()\n",
    "    operator.name = \"A\"\n",
    "    return operator\n",
    "\n",
    "## S_chi\n",
    "# Flip the sign of the marked items\n",
    "def S_chi(N, marked):\n",
    "    S_chi_array = []\n",
    "    for i in range(N):\n",
    "        row = np.zeros(N)\n",
    "        if (i in marked):\n",
    "            row[i] = -1\n",
    "        else:\n",
    "            row[i] = 1\n",
    "        S_chi_array.append(row)\n",
    "    return Operator(S_chi_array)\n",
    "\n",
    "## S_0\n",
    "# Flip the sign of the 0 state\n",
    "array_op = []\n",
    "for i in range(N):\n",
    "    row = np.zeros(N)\n",
    "    if (i == 0):\n",
    "        row[i] = -1\n",
    "    else:\n",
    "        row[i] = 1\n",
    "    array_op.append(row)\n",
    "\n",
    "S_0 = Operator(array_op)\n",
    "\n",
    "# Define the operator Q.\n",
    "def Q(nqubits, marked):\n",
    "    qc = QuantumCircuit(nqubits)\n",
    "    qc.append(S_chi(2**nqubits, marked), range(nqubits))\n",
    "    qc.append(A(nqubits), range(nqubits))\n",
    "    qc.append(S_0,        range(nqubits))\n",
    "    qc.append(A(nqubits), range(nqubits))\n",
    "\n",
    "    operator = qc.to_gate()\n",
    "    operator.name = \"Q\"\n",
    "    return operator"
   ]
  },
  {
   "cell_type": "code",
   "execution_count": 4,
   "metadata": {
    "id": "a7pRqo71b7r3"
   },
   "outputs": [],
   "source": [
    "# Define the estimation problem\n",
    "# https://qiskit.org/documentation/stubs/qiskit.algorithms.EstimationProblem.html#qiskit.algorithms.EstimationProblem\n",
    "def good_state(state):\n",
    "    bin_marked = [(n-len(bin(s))+2)*'0'+bin(s)[2:] for s in marked]\n",
    "    return (state in bin_marked)\n",
    "\n",
    "problem = EstimationProblem(\n",
    "    state_preparation=A(n),  # A operator\n",
    "    grover_operator=Q(n, marked),  # Q operator\n",
    "    objective_qubits=range(n),\n",
    "    is_good_state=good_state  # the \"good\" state Psi1 is identified as measuring |1> in qubit 0\n",
    ")"
   ]
  },
  {
   "cell_type": "code",
   "execution_count": 5,
   "metadata": {
    "id": "jPl664FsbC1h"
   },
   "outputs": [],
   "source": [
    "# use local simulator\n",
    "aer_sim = Aer.get_backend('aer_simulator')\n",
    "shots = 100"
   ]
  },
  {
   "cell_type": "code",
   "execution_count": 7,
   "metadata": {
    "id": "-GkqcvIJHHk0"
   },
   "outputs": [],
   "source": [
    "n_trials = 100\n",
    "max_depth_log2 = 3\n",
    "queries = np.zeros((max_depth_log2-1, n_trials))\n",
    "errs = np.zeros((max_depth_log2-1, n_trials))\n",
    "\n",
    "for i in range(2,max_depth_log2+1):\n",
    "    for j in range(n_trials):\n",
    "        mlae = MLAE(range(i), quantum_instance=aer_sim)\n",
    "        result = mlae.estimate(problem)\n",
    "        queries[i-2,j] = result.num_oracle_queries\n",
    "        errs[i-2,j] = abs(k/N - result.estimation)"
   ]
  },
  {
   "cell_type": "code",
   "execution_count": 8,
   "metadata": {
    "colab": {
     "base_uri": "https://localhost:8080/",
     "height": 269
    },
    "id": "BsMRL_FgHwhq",
    "outputId": "03112f03-8341-4004-faf2-e36e5ed6f485"
   },
   "outputs": [
    {
     "data": {
      "image/png": "[encoded data removed]",
      "text/plain": [
       "<Figure size 432x288 with 1 Axes>"
      ]
     },
     "metadata": {
      "needs_background": "light"
     },
     "output_type": "display_data"
    }
   ],
   "source": [
    "plt.scatter(queries.mean(axis=1), errs.mean(axis=1))\n",
    "plt.plot(queries.mean(axis=1), errs.mean(axis=1))\n",
    "plt.yscale('log')\n",
    "plt.xscale('log')\n",
    "plt.xlim(1, 10**10)\n",
    "plt.show()"
   ]
  }
 ],
 "metadata": {
  "colab": {
   "collapsed_sections": [],
   "name": "MLAE.ipynb",
   "provenance": []
  },
  "kernelspec": {
   "display_name": "Python 3",
   "language": "python",
   "name": "python3"
  },
  "language_info": {
   "codemirror_mode": {
    "name": "ipython",
    "version": 3
   },
   "file_extension": ".py",
   "mimetype": "text/x-python",
   "name": "python",
   "nbconvert_exporter": "python",
   "pygments_lexer": "ipython3",
   "version": "3.8.5"
  }
 },
 "nbformat": 4,
 "nbformat_minor": 4
}
