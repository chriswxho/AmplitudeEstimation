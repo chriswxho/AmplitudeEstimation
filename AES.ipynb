{
 "cells": [
  {
   "cell_type": "markdown",
   "metadata": {},
   "source": [
    "# Aaronson-Rall\n",
    "\n",
    "- Be able to see internal parameters throughout the algorithm \n",
    "- Ratio of t_min, t_max \n"
   ]
  },
  {
   "cell_type": "code",
   "execution_count": 12,
   "metadata": {
    "id": "NpBScWpWZcst"
   },
   "outputs": [],
   "source": [
    "import matplotlib.pyplot as plt\n",
    "import numpy as np\n",
    "\n",
    "from random import sample, seed\n",
    "\n",
    "from qiskit import QuantumCircuit, QuantumRegister, ClassicalRegister, Aer, transpile, assemble\n",
    "from qiskit.quantum_info import Statevector\n",
    "from qiskit.algorithms import amplitude_estimators, EstimationProblem\n",
    "from qiskit.extensions import UnitaryGate\n",
    "\n",
    "from qiskit.visualization import plot_histogram\n",
    "\n",
    "from algorithms.amplitude_estimators.aes import AmplitudeEstimationSimplified as AES\n",
    "from operators import *\n"
   ]
  },
  {
   "cell_type": "code",
   "execution_count": 2,
   "metadata": {},
   "outputs": [
    {
     "name": "stdout",
     "output_type": "stream",
     "text": [
      "[0.001    +0.j 0.9999995+0.j]\n"
     ]
    },
    {
     "name": "stderr",
     "output_type": "stream",
     "text": [
      "/usr/local/lib/python3.9/site-packages/qiskit/utils/deprecation.py:62: DeprecationWarning: Using a qobj for run() is deprecated as of qiskit-aer 0.9.0 and will be removed no sooner than 3 months from that release date. Transpiled circuits should now be passed directly using `backend.run(circuits, **run_options).\n",
      "  return func(*args, **kwargs)\n"
     ]
    }
   ],
   "source": [
    "\n",
    "sim = Aer.get_backend('aer_simulator')  # Tell Qiskit how to simulate our circuit\n",
    "qc = QuantumCircuit(1, 1)\n",
    "qc.ry(2 * 1.56979632663, 0)\n",
    "\n",
    "qc.save_statevector()\n",
    "qobj = assemble(qc)\n",
    "state = sim.run(qobj).result().get_statevector()\n",
    "\n",
    "print(state) # Display the output state vector\n"
   ]
  },
  {
   "cell_type": "code",
   "execution_count": 3,
   "metadata": {
    "id": "x1yELIdyZfln"
   },
   "outputs": [],
   "source": [
    "n = 4\n",
    "N = 2**n\n",
    "k = N//2\n",
    "marked = sample(range(N), k)"
   ]
  },
  {
   "cell_type": "markdown",
   "metadata": {},
   "source": [
    "## Define the estimation problem \n",
    "Qiskit's amplitude estimators have the same interface, so the same definition of the estimation problem can be reused.\n",
    "\n",
    "https://qiskit.org/documentation/stubs/qiskit.algorithms.EstimationProblem.html#qiskit.algorithms.EstimationProblem"
   ]
  },
  {
   "cell_type": "code",
   "execution_count": 4,
   "metadata": {
    "id": "a7pRqo71b7r3"
   },
   "outputs": [],
   "source": [
    "# Define the estimation problem\n",
    "# https://qiskit.org/documentation/stubs/qiskit.algorithms.EstimationProblem.html#qiskit.algorithms.EstimationProblem\n",
    "def good_state(state):\n",
    "    bin_marked = [(n-len(bin(s))+2)*'0'+bin(s)[2:] for s in marked]\n",
    "    return (state in bin_marked)\n",
    "\n",
    "problem = EstimationProblem(\n",
    "    state_preparation=A(n),  # A operator\n",
    "    grover_operator=Q(n, marked),  # Q operator\n",
    "    objective_qubits=range(n),\n",
    "    is_good_state=good_state  # the \"good\" state Psi1 is identified as measuring |1> in qubit 0\n",
    ")"
   ]
  },
  {
   "cell_type": "code",
   "execution_count": 5,
   "metadata": {},
   "outputs": [
    {
     "name": "stdout",
     "output_type": "stream",
     "text": [
      "[2, 3, 7, 8, 9, 10, 13, 15]\n"
     ]
    },
    {
     "data": {
      "text/plain": [
       "{'000010': (0.24999999999999992+0j),\n",
       " '000011': (0.24999999999999992+0j),\n",
       " '000111': (0.24999999999999992+0j),\n",
       " '001000': (0.24999999999999992+0j),\n",
       " '001001': (0.24999999999999992+0j),\n",
       " '001010': (0.24999999999999992+0j),\n",
       " '001101': (0.24999999999999992+0j),\n",
       " '001111': (0.24999999999999992+0j),\n",
       " '010000': (0.24999999999999992+0j),\n",
       " '010001': (0.24999999999999992+0j),\n",
       " '010100': (0.24999999999999992+0j),\n",
       " '010101': (0.24999999999999992+0j),\n",
       " '010110': (0.24999999999999992+0j),\n",
       " '011011': (0.24999999999999992+0j),\n",
       " '011100': (0.24999999999999992+0j),\n",
       " '011110': (0.24999999999999992+0j)}"
      ]
     },
     "execution_count": 5,
     "metadata": {},
     "output_type": "execute_result"
    }
   ],
   "source": [
    "num_qubits = max(\n",
    "            problem.state_preparation.num_qubits,\n",
    "            problem.grover_operator.num_qubits,\n",
    "        )\n",
    "circuit = QuantumCircuit(num_qubits+2, name=\"circuit\")\n",
    "\n",
    "# Convert marked states to bits      7 -> 0111 \n",
    "# For each marked state, create mcx gate controlled by corresponding bits \n",
    "A_ = problem.state_preparation\n",
    "\n",
    "# AR\n",
    "AR_qc = QuantumCircuit(num_qubits+2)\n",
    "AR_qc.append(A_, [0,1,2,3])\n",
    "marked_s = sorted(marked, reverse=True)\n",
    "for target in range(16):\n",
    "    if marked_s and marked_s[-1] == target:\n",
    "        marked_s.pop()\n",
    "    else:\n",
    "        if not target & 0b1000:\n",
    "            AR_qc.x(3)\n",
    "        if not target & 0b0100:\n",
    "            AR_qc.x(2)\n",
    "        if not target & 0b0010:\n",
    "            AR_qc.x(1)\n",
    "        if not target & 0b0001:\n",
    "            AR_qc.x(0)\n",
    "        AR_qc.mcx([0,1,2,3], 4)\n",
    "        if not target & 0b0001:\n",
    "            AR_qc.x(0)\n",
    "        if not target & 0b0010:\n",
    "            AR_qc.x(1)\n",
    "        if not target & 0b0100:\n",
    "            AR_qc.x(2)\n",
    "        if not target & 0b1000:\n",
    "            AR_qc.x(3)\n",
    "AR_qc.u(3.13959465126, 0, 0, 5)  # R \n",
    "AR_gate = AR_qc.to_gate(label=\"A x R\")\n",
    "# END AR \n",
    "\n",
    "AR_gate_inv = AR_gate.inverse()\n",
    "\n",
    "# ZERO GATE\n",
    "zero_vec = np.zeros(2**(n+2))\n",
    "zero_vec[0] = 1\n",
    "zero_gate = UnitaryGate(np.eye(2**(n+2)) - 2 * np.tensordot(zero_vec, zero_vec, axes=0))\n",
    "# END ZERO GATE\n",
    "\n",
    "# LAST GATE \n",
    "measure_vec = np.zeros(2**2)\n",
    "measure_vec[0] = 1\n",
    "measure_gate = UnitaryGate(-1 * (np.eye(2**(n+2)) - 2 * (np.tensordot(np.eye(2**n), np.tensordot(measure_vec, measure_vec, axes=0), axes=0)).swapaxes(1, 2).reshape(2**(n+2), 2**(n+2))))\n",
    "# END LAST GATE\n",
    "\n",
    "# G OPERATOR\n",
    "G_qc = QuantumCircuit(num_qubits+2)\n",
    "G_qc.append(measure_gate, range(6))\n",
    "G_qc.append(AR_gate_inv, range(6))\n",
    "G_qc.append(zero_gate, range(6))\n",
    "G_qc.append(AR_gate, range(6))\n",
    "G_gate = G_qc.to_gate(label=\"G\")\n",
    "# END G OPERATOR\n",
    "\n",
    "\n",
    "\n",
    "circuit.append(AR_gate, [0,1,2,3,4,5])\n",
    "# circuit.append(A_.inverse(), [0,1,2,3])\n",
    "sv = Statevector(circuit)\n",
    "D = sv.to_dict()\n",
    "print(sorted(marked))\n",
    "# for k in D:\n",
    "#     if k[0:2] == '01':\n",
    "#         print(k, D[k])\n",
    "D"
   ]
  },
  {
   "cell_type": "code",
   "execution_count": 6,
   "metadata": {
    "id": "jPl664FsbC1h"
   },
   "outputs": [],
   "source": [
    "# use local simulator\n",
    "aer_sim = Aer.get_backend('aer_simulator')\n",
    "aer_sim._configuration.max_shots = 300\n"
   ]
  },
  {
   "cell_type": "code",
   "execution_count": 8,
   "metadata": {},
   "outputs": [],
   "source": [
    "aes = AES(0.1, 0.1, marked=marked, quantum_instance=aer_sim)"
   ]
  },
  {
   "cell_type": "code",
   "execution_count": 9,
   "metadata": {},
   "outputs": [
    {
     "data": {
      "text/plain": [
       "<qiskit.circuit.quantumcircuit.QuantumCircuit at 0x134473880>"
      ]
     },
     "execution_count": 9,
     "metadata": {},
     "output_type": "execute_result"
    }
   ],
   "source": [
    "aes.construct_circuit(problem, 3)"
   ]
  },
  {
   "cell_type": "code",
   "execution_count": 13,
   "metadata": {
    "id": "-GkqcvIJHHk0"
   },
   "outputs": [
    {
     "ename": "AttributeError",
     "evalue": "'AmplitudeEstimationSimplified' object has no attribute '_evaluation_schedule'",
     "output_type": "error",
     "traceback": [
      "\u001b[0;31m---------------------------------------------------------------------------\u001b[0m",
      "\u001b[0;31mAttributeError\u001b[0m                            Traceback (most recent call last)",
      "\u001b[0;32m/var/folders/49/jnth1h1501g69k7tcgl6htjh0000gn/T/ipykernel_26355/92252177.py\u001b[0m in \u001b[0;36m<module>\u001b[0;34m\u001b[0m\n\u001b[0;32m----> 1\u001b[0;31m \u001b[0maes\u001b[0m\u001b[0;34m.\u001b[0m\u001b[0mestimate\u001b[0m\u001b[0;34m(\u001b[0m\u001b[0mproblem\u001b[0m\u001b[0;34m)\u001b[0m\u001b[0;34m\u001b[0m\u001b[0;34m\u001b[0m\u001b[0m\n\u001b[0m\u001b[1;32m      2\u001b[0m \u001b[0;34m\u001b[0m\u001b[0m\n\u001b[1;32m      3\u001b[0m \u001b[0;31m# n_trials = 100\u001b[0m\u001b[0;34m\u001b[0m\u001b[0;34m\u001b[0m\u001b[0m\n\u001b[1;32m      4\u001b[0m \u001b[0;34m\u001b[0m\u001b[0m\n\u001b[1;32m      5\u001b[0m \u001b[0;31m# max_depth_log2 = 3\u001b[0m\u001b[0;34m\u001b[0m\u001b[0;34m\u001b[0m\u001b[0m\n",
      "\u001b[0;32m~/research/AmplitudeEstimation/algorithms/amplitude_estimators/aes.py\u001b[0m in \u001b[0;36mestimate\u001b[0;34m(self, estimation_problem)\u001b[0m\n\u001b[1;32m    209\u001b[0m \u001b[0;34m\u001b[0m\u001b[0m\n\u001b[1;32m    210\u001b[0m         \u001b[0mresult\u001b[0m \u001b[0;34m=\u001b[0m \u001b[0mAmplitudeEstimationSimplifiedEstimationResult\u001b[0m\u001b[0;34m(\u001b[0m\u001b[0;34m)\u001b[0m\u001b[0;34m\u001b[0m\u001b[0;34m\u001b[0m\u001b[0m\n\u001b[0;32m--> 211\u001b[0;31m         \u001b[0;31m# result.post_processing = estimation_problem.post_processing\u001b[0m\u001b[0;34m\u001b[0m\u001b[0;34m\u001b[0m\u001b[0m\n\u001b[0m\u001b[1;32m    212\u001b[0m \u001b[0;34m\u001b[0m\u001b[0m\n\u001b[1;32m    213\u001b[0m         \u001b[0;32mif\u001b[0m \u001b[0mself\u001b[0m\u001b[0;34m.\u001b[0m\u001b[0m_quantum_instance\u001b[0m\u001b[0;34m.\u001b[0m\u001b[0mis_statevector\u001b[0m\u001b[0;34m:\u001b[0m\u001b[0;34m\u001b[0m\u001b[0;34m\u001b[0m\u001b[0m\n",
      "\u001b[0;31mAttributeError\u001b[0m: 'AmplitudeEstimationSimplified' object has no attribute '_evaluation_schedule'"
     ]
    }
   ],
   "source": [
    "aes.estimate(problem)\n",
    "\n",
    "# n_trials = 100\n",
    "\n",
    "# max_depth_log2 = 3\n",
    "# queries = np.zeros((max_depth_log2-1, n_trials))\n",
    "# errs = np.zeros((max_depth_log2-1, n_trials))\n",
    "\n",
    "# for i in range(2,max_depth_log2+1):\n",
    "#     for j in range(n_trials):\n",
    "#         mlae = MLAE(range(i), quantum_instance=aer_sim)\n",
    "#         result = mlae.estimate(problem)\n",
    "#         queries[i-2,j] = result.num_oracle_queries\n",
    "#         errs[i-2,j] = abs(k/N - result.estimation)"
   ]
  },
  {
   "cell_type": "code",
   "execution_count": null,
   "metadata": {
    "colab": {
     "base_uri": "https://localhost:8080/",
     "height": 269
    },
    "id": "BsMRL_FgHwhq",
    "outputId": "03112f03-8341-4004-faf2-e36e5ed6f485"
   },
   "outputs": [],
   "source": [
    "plt.scatter(queries.mean(axis=1), errs.mean(axis=1))\n",
    "plt.plot(queries.mean(axis=1), errs.mean(axis=1))\n",
    "plt.yscale('log')\n",
    "plt.xscale('log')\n",
    "plt.xlim(1, 10**10)\n",
    "plt.show()"
   ]
  }
 ],
 "metadata": {
  "interpreter": {
   "hash": "aee8b7b246df8f9039afb4144a1f6fd8d2ca17a180786b69acc140d282b71a49"
  },
  "kernelspec": {
   "display_name": "Python 3.9.7 64-bit",
   "name": "python3"
  },
  "language_info": {
   "codemirror_mode": {
    "name": "ipython",
    "version": 3
   },
   "file_extension": ".py",
   "mimetype": "text/x-python",
   "name": "python",
   "nbconvert_exporter": "python",
   "pygments_lexer": "ipython3",
   "version": "3.9.7"
  },
  "orig_nbformat": 4
 },
 "nbformat": 4,
 "nbformat_minor": 2
}
